{
  "nbformat": 4,
  "nbformat_minor": 0,
  "metadata": {
    "colab": {
      "provenance": [],
      "include_colab_link": true
    },
    "kernelspec": {
      "name": "python3",
      "display_name": "Python 3"
    },
    "language_info": {
      "name": "python"
    },
    "accelerator": "GPU",
    "gpuClass": "standard"
  },
  "cells": [
    {
      "cell_type": "markdown",
      "metadata": {
        "id": "view-in-github",
        "colab_type": "text"
      },
      "source": [
        "<a href=\"https://colab.research.google.com/github/pranjal299/cv-project/blob/main/Smart_Pigs_Data_DL_Features_Stan_Starter_6_Classes.ipynb\" target=\"_parent\"><img src=\"https://colab.research.google.com/assets/colab-badge.svg\" alt=\"Open In Colab\"/></a>"
      ]
    },
    {
      "cell_type": "code",
      "execution_count": 1,
      "metadata": {
        "colab": {
          "base_uri": "https://localhost:8080/"
        },
        "id": "MS6DbTIvx_GC",
        "outputId": "c2b16277-6fb9-48b6-9947-12188370bd0e"
      },
      "outputs": [
        {
          "output_type": "stream",
          "name": "stdout",
          "text": [
            "Mounted at /content/gdrive\n"
          ]
        }
      ],
      "source": [
        "#Mount Google Drive \n",
        "from google.colab import drive\n",
        "drive.mount('/content/gdrive',force_remount=True)"
      ]
    },
    {
      "cell_type": "markdown",
      "source": [
        "### Training Code"
      ],
      "metadata": {
        "id": "bMbgPe9NhByt"
      }
    },
    {
      "cell_type": "code",
      "source": [
        "!nvidia-smi"
      ],
      "metadata": {
        "colab": {
          "base_uri": "https://localhost:8080/"
        },
        "id": "iqeHIIgPMNaI",
        "outputId": "1028e2de-0594-45db-b3dc-1ee2a6d7f83b"
      },
      "execution_count": 2,
      "outputs": [
        {
          "output_type": "stream",
          "name": "stdout",
          "text": [
            "Fri Dec 30 03:58:39 2022       \n",
            "+-----------------------------------------------------------------------------+\n",
            "| NVIDIA-SMI 460.32.03    Driver Version: 460.32.03    CUDA Version: 11.2     |\n",
            "|-------------------------------+----------------------+----------------------+\n",
            "| GPU  Name        Persistence-M| Bus-Id        Disp.A | Volatile Uncorr. ECC |\n",
            "| Fan  Temp  Perf  Pwr:Usage/Cap|         Memory-Usage | GPU-Util  Compute M. |\n",
            "|                               |                      |               MIG M. |\n",
            "|===============================+======================+======================|\n",
            "|   0  Tesla T4            Off  | 00000000:00:04.0 Off |                    0 |\n",
            "| N/A   51C    P0    27W /  70W |      0MiB / 15109MiB |      0%      Default |\n",
            "|                               |                      |                  N/A |\n",
            "+-------------------------------+----------------------+----------------------+\n",
            "                                                                               \n",
            "+-----------------------------------------------------------------------------+\n",
            "| Processes:                                                                  |\n",
            "|  GPU   GI   CI        PID   Type   Process name                  GPU Memory |\n",
            "|        ID   ID                                                   Usage      |\n",
            "|=============================================================================|\n",
            "|  No running processes found                                                 |\n",
            "+-----------------------------------------------------------------------------+\n"
          ]
        }
      ]
    },
    {
      "cell_type": "code",
      "source": [
        "!gdown \"1--iUzzvmYpINyr0zkB69xI4P9ZABM2A9&confirm=t\"\n",
        "!gdown \"1-17BDu_8mGJdvDQ8aUxDWjm0UpUaQJ-e&confirm=t\"\n",
        "!gdown \"1-28nY4MxnpajMwKJgNDv596NfaML1TfU&confirm=t\" \n",
        "!gdown \"1c3gl74SgqYeUZH0ExiucL1w0xeFvcyDU&confirm=t\""
      ],
      "metadata": {
        "id": "cnCYKnaJpRdi",
        "colab": {
          "base_uri": "https://localhost:8080/"
        },
        "outputId": "877ea17c-2310-456c-c46f-507f96b6d83d"
      },
      "execution_count": null,
      "outputs": [
        {
          "output_type": "stream",
          "name": "stdout",
          "text": [
            "Downloading...\n",
            "From: https://drive.google.com/uc?id=1--iUzzvmYpINyr0zkB69xI4P9ZABM2A9&confirm=t\n",
            "To: /content/X_test_pigs_combined_win_128_64_clean.csv\n",
            "100% 387M/387M [00:02<00:00, 133MB/s]\n",
            "Downloading...\n",
            "From: https://drive.google.com/uc?id=1-17BDu_8mGJdvDQ8aUxDWjm0UpUaQJ-e&confirm=t\n",
            "To: /content/Y_train_pigs_win_128_64_clean.csv\n",
            "100% 1.48M/1.48M [00:00<00:00, 177MB/s]\n",
            "Downloading...\n",
            "From: https://drive.google.com/uc?id=1-28nY4MxnpajMwKJgNDv596NfaML1TfU&confirm=t\n",
            "To: /content/Y_test_pigs_win_128_64_clean.csv\n",
            "100% 492k/492k [00:00<00:00, 131MB/s]\n",
            "Downloading...\n",
            "From: https://drive.google.com/uc?id=1c3gl74SgqYeUZH0ExiucL1w0xeFvcyDU&confirm=t\n",
            "To: /content/X_train_pigs_combined_win_128_64_clean.csv\n",
            "100% 1.16G/1.16G [00:08<00:00, 136MB/s]\n"
          ]
        }
      ]
    },
    {
      "cell_type": "code",
      "source": [
        "# cnn model\n",
        "from numpy import mean\n",
        "from numpy import std\n",
        "from numpy import dstack\n",
        "from pandas import read_csv\n",
        "from keras.models import Sequential\n",
        "from keras.layers import Dense\n",
        "from keras.layers import Flatten\n",
        "from keras.layers import Dropout\n",
        "from keras.layers.convolutional import Conv1D\n",
        "from keras.layers.convolutional import MaxPooling1D\n",
        "from keras.utils import to_categorical\n",
        "import matplotlib.pyplot as plt\n",
        "from keras.utils import plot_model\n",
        "import tensorflow as tf\n",
        "from PIL import Image\n",
        "from google.colab.patches import cv2_imshow\n",
        "import cv2\n",
        "from keras.models import load_model\n",
        "import keras"
      ],
      "metadata": {
        "id": "fgWUxEdlYI6Y"
      },
      "execution_count": 3,
      "outputs": []
    },
    {
      "cell_type": "code",
      "source": [
        "def evaluate_model(trainX, trainy, testX, testy, epochs, batch_size, r):\n",
        "  verbose, epochs, batch_size = 1, epochs, batch_size\n",
        "  model = create_model(trainX, trainy)\n",
        "  callbacks = [\n",
        "    keras.callbacks.ModelCheckpoint(\n",
        "        \"best_model_epochs_\"+str(epochs)+\"_batch_size_\"+str(batch_size)+\"_iteration_\"+str(r)+\".h5\", save_best_only=True, monitor=\"val_accuracy\", verbose = 1\n",
        "    ),\n",
        "    keras.callbacks.ReduceLROnPlateau(\n",
        "        monitor=\"val_accuracy\", factor=0.5, patience=20, min_lr=0.0001, verbose = 1\n",
        "    ),\n",
        "    keras.callbacks.EarlyStopping(monitor=\"val_accuracy\", patience=50, verbose=1),\n",
        "  ]\n",
        "  history = model.fit(trainX, trainy, validation_data = (testX,testy), epochs=epochs, batch_size=batch_size, verbose=verbose,callbacks=callbacks,)\n",
        "  # list all data in history\n",
        "  print(history.history.keys())\n",
        "  # summarize history for accuracy\n",
        "  plt.plot(history.history['accuracy'])\n",
        "  plt.plot(history.history['val_accuracy'])\n",
        "  plt.title('model accuracy')\n",
        "  plt.ylabel('accuracy')\n",
        "  plt.xlabel('epoch')\n",
        "  plt.legend(['train', 'test'], loc='upper left')\n",
        "  plt.show()\n",
        "  # summarize history for loss\n",
        "  plt.plot(history.history['loss'])\n",
        "  plt.plot(history.history['val_loss'])\n",
        "  plt.title('model loss')\n",
        "  plt.ylabel('loss')\n",
        "  plt.xlabel('epoch')\n",
        "  plt.legend(['train', 'test'], loc='upper left')\n",
        "  plt.show()\n",
        "  # evaluate model\n",
        "  model = load_model(\"best_model_epochs_\"+str(epochs)+\"_batch_size_\"+str(batch_size)+\"_iteration_\"+str(r)+\".h5\")\n",
        "  _, accuracy = model.evaluate(testX, testy, batch_size=batch_size, verbose=0)\n",
        "  return accuracy"
      ],
      "metadata": {
        "id": "OCnojhn4Zep_"
      },
      "execution_count": 4,
      "outputs": []
    },
    {
      "cell_type": "code",
      "source": [
        "def create_model(trainX, trainy):\n",
        "  n_timesteps, n_features, n_outputs = trainX.shape[1], trainX.shape[2], trainy.shape[1]\n",
        "  model = Sequential()\n",
        "  model.add(Conv1D(48, 3, activation='relu', input_shape=(n_timesteps,n_features)))\n",
        "  model.add(Dropout(0.5))\n",
        "  model.add(Conv1D(48, 3, activation='relu'))\n",
        "  model.add(Dropout(0.5))\n",
        "  model.add(MaxPooling1D())\n",
        "  model.add(Flatten())\n",
        "  model.add(Dense(100, activation='relu'))\n",
        "  model.add(Dropout(0.5))\n",
        "  model.add(Dense(n_outputs, activation='softmax'))\n",
        "  model.compile(loss='categorical_crossentropy', optimizer='adam', metrics=['accuracy'])\n",
        "  # visualize model\n",
        "  model_plot(model)\n",
        "  return model"
      ],
      "metadata": {
        "id": "OFydhJ_flFqM"
      },
      "execution_count": 5,
      "outputs": []
    },
    {
      "cell_type": "code",
      "source": [
        "def model_plot(model):\n",
        "  tf.keras.utils.plot_model(model, show_shapes=True, show_layer_names=True, to_file='model.png')\n",
        "  img = cv2.imread('model.png')\n",
        "  cv2_imshow(img)\n",
        "  return model"
      ],
      "metadata": {
        "id": "ohfn21gEobT4"
      },
      "execution_count": 6,
      "outputs": []
    },
    {
      "cell_type": "code",
      "source": [
        "# summarize scores\n",
        "def summarize_results(scores):\n",
        "  print(scores)\n",
        "  m = max(scores)\n",
        "  print('Best Accuracy: ',m,'%')"
      ],
      "metadata": {
        "id": "gUey1wFfZkRB"
      },
      "execution_count": 8,
      "outputs": []
    },
    {
      "cell_type": "code",
      "source": [
        "# run an experiment\n",
        "def run_experiment(repeats,epochs,batch_size,X_train_i,y_train,X_test_i,y_test):\n",
        "  # load data\n",
        "  #trainX, trainy, testX, testy = load_dataset()\n",
        "  trainX = X_train_i\n",
        "  trainy = y_train\n",
        "  testX = X_test_i\n",
        "  testy = y_test\n",
        "  # repeat experiment\n",
        "  scores = list()\n",
        "  for r in range(repeats):\n",
        "    score = evaluate_model(trainX, trainy, testX, testy, epochs, batch_size, r)\n",
        "    score = score * 100.0\n",
        "    print('>#%d: %.3f' % (r+1, score))\n",
        "    scores.append(score)\n",
        "  # summarize results\n",
        "  summarize_results(scores)"
      ],
      "metadata": {
        "id": "EuuEleTHZi4_"
      },
      "execution_count": 9,
      "outputs": []
    },
    {
      "cell_type": "markdown",
      "source": [
        "### Input Data Code"
      ],
      "metadata": {
        "id": "wI8e-kU8hJyW"
      }
    },
    {
      "cell_type": "code",
      "source": [
        "import numpy as np\n",
        "import pandas as pd\n",
        "np.set_printoptions(suppress=True)"
      ],
      "metadata": {
        "id": "oFIr5LSO1sh3"
      },
      "execution_count": 10,
      "outputs": []
    },
    {
      "cell_type": "code",
      "source": [
        "X_train = np.genfromtxt('/content/gdrive/MyDrive/ready2use/windowed_YP/X_train_pigs_win_128_64_time_features.csv', delimiter=',')\n",
        "X_test = np.genfromtxt('/content/gdrive/MyDrive/ready2use/windowed_YP/X_test_pigs_win_128_64_time_features.csv', delimiter=',')\n",
        "y_train = np.genfromtxt('/content/gdrive/MyDrive/ready2use/windowed_YP/y_train_pigs_win_128_64_strings.csv', delimiter=',',dtype=str)\n",
        "y_test = np.genfromtxt('/content/gdrive/MyDrive/ready2use/windowed_YP/y_test_pigs_win_128_64_strings.csv', delimiter=',',dtype=str)\n",
        "\n",
        "print(X_train.shape)\n",
        "print(X_test.shape)\n",
        "print(y_train.shape)\n",
        "print(y_test.shape)"
      ],
      "metadata": {
        "id": "ilvLnEvWA4fM",
        "outputId": "3e40b50f-6105-4aeb-a77c-2a79c31950c6",
        "colab": {
          "base_uri": "https://localhost:8080/"
        }
      },
      "execution_count": 11,
      "outputs": [
        {
          "output_type": "stream",
          "name": "stdout",
          "text": [
            "(59053, 36)\n",
            "(19683, 36)\n",
            "(59053,)\n",
            "(19683,)\n"
          ]
        }
      ]
    },
    {
      "cell_type": "code",
      "source": [
        "X_train= X_train[(y_train=='Eating') | (y_train=='Laying') | (y_train=='Standing') | (y_train=='Walking') | (y_train=='Drinking') | (y_train=='Interacting With Each Other')]\n",
        "X_test= X_test[(y_test=='Eating') | (y_test=='Laying') | (y_test=='Standing') | (y_test=='Walking') | (y_test=='Drinking') | (y_test=='Interacting With Each Other')]"
      ],
      "metadata": {
        "id": "-1BbgFtpMCOa"
      },
      "execution_count": 12,
      "outputs": []
    },
    {
      "cell_type": "code",
      "source": [
        "y_train = y_train[(y_train=='Eating') | (y_train=='Laying') | (y_train=='Standing') | (y_train=='Walking') | (y_train=='Drinking') | (y_train=='Interacting With Each Other')]\n",
        "y_test = y_test[(y_test=='Eating') | (y_test=='Laying') | (y_test=='Standing') | (y_test=='Walking') | (y_test=='Drinking') | (y_test=='Interacting With Each Other')]"
      ],
      "metadata": {
        "id": "WZkzTFCxMD8R"
      },
      "execution_count": 13,
      "outputs": []
    },
    {
      "cell_type": "code",
      "source": [
        "y_train = y_train[(y_train=='Eating') | (y_train=='Laying') | (y_train=='Standing') | (y_train=='Walking') | (y_train=='Drinking') | (y_train=='Interacting With Each Other')]\n",
        "y_test = y_test[(y_test=='Eating') | (y_test=='Laying') | (y_test=='Standing') | (y_test=='Walking') | (y_test=='Drinking') | (y_test=='Interacting With Each Other')]"
      ],
      "metadata": {
        "id": "iJjBFWALDVee"
      },
      "execution_count": null,
      "outputs": []
    },
    {
      "cell_type": "code",
      "source": [
        "print(X_train.shape)\n",
        "print(X_test.shape)\n",
        "print(y_train.shape)\n",
        "print(y_test.shape)"
      ],
      "metadata": {
        "id": "VTxhCr4-DyZ-",
        "outputId": "ae77d7bd-4643-4c3a-df05-8c05f4670460",
        "colab": {
          "base_uri": "https://localhost:8080/"
        }
      },
      "execution_count": 14,
      "outputs": [
        {
          "output_type": "stream",
          "name": "stdout",
          "text": [
            "(55657, 36)\n",
            "(18382, 36)\n",
            "(55657,)\n",
            "(18382,)\n"
          ]
        }
      ]
    },
    {
      "cell_type": "code",
      "source": [
        "y_train = np.char.replace(y_train, 'Standing','0')\n",
        "y_train = np.char.replace(y_train, 'Walking','1')\n",
        "y_train = np.char.replace(y_train, 'Eating','2')\n",
        "y_train = np.char.replace(y_train, 'Interacting With Each Other','3')\n",
        "y_train = np.char.replace(y_train, 'Laying','4')\n",
        "y_train = np.char.replace(y_train, 'Drinking','5')"
      ],
      "metadata": {
        "id": "f0R2Z_feF_sd"
      },
      "execution_count": 15,
      "outputs": []
    },
    {
      "cell_type": "code",
      "source": [
        "y_test = np.char.replace(y_test, 'Standing','0')\n",
        "y_test = np.char.replace(y_test, 'Walking','1')\n",
        "y_test = np.char.replace(y_test, 'Eating','2')\n",
        "y_test = np.char.replace(y_test, 'Interacting With Each Other','3')\n",
        "y_test = np.char.replace(y_test, 'Laying','4')\n",
        "y_test = np.char.replace(y_test, 'Drinking','5')"
      ],
      "metadata": {
        "id": "o43py9fLFVYf"
      },
      "execution_count": 16,
      "outputs": []
    },
    {
      "cell_type": "code",
      "source": [
        "y_train=y_train.astype(int)\n",
        "y_test=y_test.astype(int)"
      ],
      "metadata": {
        "id": "Dy12eBBzErvn"
      },
      "execution_count": 17,
      "outputs": []
    },
    {
      "cell_type": "markdown",
      "source": [
        "Copy till above cell for decreasing classes"
      ],
      "metadata": {
        "id": "u1voR5PzGdz2"
      }
    },
    {
      "cell_type": "code",
      "source": [
        "y_train = y_train.reshape((len(y_train),1))\n",
        "y_test = y_test.reshape((len(y_test),1))"
      ],
      "metadata": {
        "id": "USXt5Fplu1ve"
      },
      "execution_count": 18,
      "outputs": []
    },
    {
      "cell_type": "code",
      "source": [
        "y_train = to_categorical(y_train)\n",
        "y_test = to_categorical(y_test)"
      ],
      "metadata": {
        "id": "sHQEj9EHvGuG"
      },
      "execution_count": 19,
      "outputs": []
    },
    {
      "cell_type": "code",
      "source": [
        "X_train = X_train.reshape(X_train.shape[0],X_train.shape[1],1)\n",
        "X_test = X_test.reshape(X_test.shape[0],X_test.shape[1],1)"
      ],
      "metadata": {
        "id": "oWMNEZCUN_NB"
      },
      "execution_count": 24,
      "outputs": []
    },
    {
      "cell_type": "code",
      "source": [
        "print(X_train.shape)\n",
        "print(X_test.shape)\n",
        "print(y_train.shape)\n",
        "print(y_test.shape)"
      ],
      "metadata": {
        "id": "EdY1gwfzNua6",
        "outputId": "735d4dad-1359-4afa-e133-a3fcc90d5b3a",
        "colab": {
          "base_uri": "https://localhost:8080/"
        }
      },
      "execution_count": 22,
      "outputs": [
        {
          "output_type": "stream",
          "name": "stdout",
          "text": [
            "(55657, 36)\n",
            "(18382, 36)\n",
            "(55657, 6)\n",
            "(18382, 6)\n"
          ]
        }
      ]
    },
    {
      "cell_type": "markdown",
      "source": [
        "### Experiment Code"
      ],
      "metadata": {
        "id": "XK07Spd7hPgy"
      }
    },
    {
      "cell_type": "code",
      "source": [
        "run_experiment(repeats = 5,epochs = 1000,batch_size = 128,X_train_i = X_train ,y_train = y_train, X_test_i = X_test, y_test = y_test) #1000 epochs"
      ],
      "metadata": {
        "colab": {
          "base_uri": "https://localhost:8080/",
          "height": 1000
        },
        "id": "lAOaASX_PtOA",
        "outputId": "44eb8e81-f34a-4534-bc7d-b70bd61ece1f"
      },
      "execution_count": null,
      "outputs": [
        {
          "output_type": "display_data",
          "data": {
            "text/plain": [
              "<PIL.Image.Image image mode=RGB size=369x1069 at 0x7FA46E79B340>"
            ],
            "image/png": "[encoded data removed]"
          },
          "metadata": {}
        },
        {
          "output_type": "stream",
          "name": "stdout",
          "text": [
            "Epoch 1/1000\n",
            "435/435 [==============================] - ETA: 0s - loss: 0.6431 - accuracy: 0.8027\n",
            "Epoch 1: val_accuracy improved from -inf to 0.85051, saving model to best_model_epochs_1000_batch_size_128_iteration_0.h5\n",
            "435/435 [==============================] - 11s 6ms/step - loss: 0.6431 - accuracy: 0.8027 - val_loss: 0.4550 - val_accuracy: 0.8505 - lr: 0.0010\n",
            "Epoch 2/1000\n",
            "428/435 [============================>.] - ETA: 0s - loss: 0.4551 - accuracy: 0.8599\n",
            "Epoch 2: val_accuracy improved from 0.85051 to 0.87586, saving model to best_model_epochs_1000_batch_size_128_iteration_0.h5\n",
            "435/435 [==============================] - 2s 5ms/step - loss: 0.4550 - accuracy: 0.8599 - val_loss: 0.3752 - val_accuracy: 0.8759 - lr: 0.0010\n",
            "Epoch 3/1000\n",
            "428/435 [============================>.] - ETA: 0s - loss: 0.4108 - accuracy: 0.8755\n",
            "Epoch 3: val_accuracy improved from 0.87586 to 0.88668, saving model to best_model_epochs_1000_batch_size_128_iteration_0.h5\n",
            "435/435 [==============================] - 2s 5ms/step - loss: 0.4101 - accuracy: 0.8756 - val_loss: 0.3418 - val_accuracy: 0.8867 - lr: 0.0010\n",
            "Epoch 4/1000\n",
            "428/435 [============================>.] - ETA: 0s - loss: 0.3870 - accuracy: 0.8816\n",
            "Epoch 4: val_accuracy improved from 0.88668 to 0.89305, saving model to best_model_epochs_1000_batch_size_128_iteration_0.h5\n",
            "435/435 [==============================] - 2s 6ms/step - loss: 0.3868 - accuracy: 0.8816 - val_loss: 0.3225 - val_accuracy: 0.8930 - lr: 0.0010\n",
            "Epoch 5/1000\n",
            "430/435 [============================>.] - ETA: 0s - loss: 0.3680 - accuracy: 0.8869\n",
            "Epoch 5: val_accuracy improved from 0.89305 to 0.89876, saving model to best_model_epochs_1000_batch_size_128_iteration_0.h5\n",
            "435/435 [==============================] - 3s 6ms/step - loss: 0.3680 - accuracy: 0.8870 - val_loss: 0.3109 - val_accuracy: 0.8988 - lr: 0.0010\n",
            "Epoch 6/1000\n",
            "426/435 [============================>.] - ETA: 0s - loss: 0.3545 - accuracy: 0.8921\n",
            "Epoch 6: val_accuracy improved from 0.89876 to 0.90001, saving model to best_model_epochs_1000_batch_size_128_iteration_0.h5\n",
            "435/435 [==============================] - 2s 6ms/step - loss: 0.3541 - accuracy: 0.8919 - val_loss: 0.3024 - val_accuracy: 0.9000 - lr: 0.0010\n",
            "Epoch 7/1000\n",
            "434/435 [============================>.] - ETA: 0s - loss: 0.3446 - accuracy: 0.8947\n",
            "Epoch 7: val_accuracy improved from 0.90001 to 0.90502, saving model to best_model_epochs_1000_batch_size_128_iteration_0.h5\n",
            "435/435 [==============================] - 3s 6ms/step - loss: 0.3448 - accuracy: 0.8947 - val_loss: 0.2905 - val_accuracy: 0.9050 - lr: 0.0010\n",
            "Epoch 8/1000\n",
            "434/435 [============================>.] - ETA: 0s - loss: 0.3346 - accuracy: 0.8978\n",
            "Epoch 8: val_accuracy improved from 0.90502 to 0.90714, saving model to best_model_epochs_1000_batch_size_128_iteration_0.h5\n",
            "435/435 [==============================] - 2s 6ms/step - loss: 0.3348 - accuracy: 0.8977 - val_loss: 0.2834 - val_accuracy: 0.9071 - lr: 0.0010\n",
            "Epoch 9/1000\n",
            "430/435 [============================>.] - ETA: 0s - loss: 0.3273 - accuracy: 0.9001\n",
            "Epoch 9: val_accuracy improved from 0.90714 to 0.90790, saving model to best_model_epochs_1000_batch_size_128_iteration_0.h5\n",
            "435/435 [==============================] - 3s 6ms/step - loss: 0.3270 - accuracy: 0.9000 - val_loss: 0.2787 - val_accuracy: 0.9079 - lr: 0.0010\n",
            "Epoch 10/1000\n",
            "431/435 [============================>.] - ETA: 0s - loss: 0.3188 - accuracy: 0.9025\n",
            "Epoch 10: val_accuracy did not improve from 0.90790\n",
            "435/435 [==============================] - 2s 5ms/step - loss: 0.3185 - accuracy: 0.9025 - val_loss: 0.2835 - val_accuracy: 0.9045 - lr: 0.0010\n",
            "Epoch 11/1000\n",
            "435/435 [==============================] - ETA: 0s - loss: 0.3143 - accuracy: 0.9034\n",
            "Epoch 11: val_accuracy improved from 0.90790 to 0.91192, saving model to best_model_epochs_1000_batch_size_128_iteration_0.h5\n",
            "435/435 [==============================] - 3s 6ms/step - loss: 0.3143 - accuracy: 0.9034 - val_loss: 0.2664 - val_accuracy: 0.9119 - lr: 0.0010\n",
            "Epoch 12/1000\n",
            "429/435 [============================>.] - ETA: 0s - loss: 0.3099 - accuracy: 0.9047\n",
            "Epoch 12: val_accuracy did not improve from 0.91192\n",
            "435/435 [==============================] - 3s 6ms/step - loss: 0.3100 - accuracy: 0.9048 - val_loss: 0.2667 - val_accuracy: 0.9093 - lr: 0.0010\n",
            "Epoch 13/1000\n",
            "435/435 [==============================] - ETA: 0s - loss: 0.3062 - accuracy: 0.9059\n",
            "Epoch 13: val_accuracy did not improve from 0.91192\n",
            "435/435 [==============================] - 3s 7ms/step - loss: 0.3062 - accuracy: 0.9059 - val_loss: 0.2623 - val_accuracy: 0.9117 - lr: 0.0010\n",
            "Epoch 14/1000\n",
            "435/435 [==============================] - ETA: 0s - loss: 0.3033 - accuracy: 0.9074\n",
            "Epoch 14: val_accuracy did not improve from 0.91192\n",
            "435/435 [==============================] - 2s 6ms/step - loss: 0.3033 - accuracy: 0.9074 - val_loss: 0.2619 - val_accuracy: 0.9112 - lr: 0.0010\n",
            "Epoch 15/1000\n",
            "428/435 [============================>.] - ETA: 0s - loss: 0.2997 - accuracy: 0.9074\n",
            "Epoch 15: val_accuracy improved from 0.91192 to 0.91361, saving model to best_model_epochs_1000_batch_size_128_iteration_0.h5\n",
            "435/435 [==============================] - 3s 6ms/step - loss: 0.2992 - accuracy: 0.9075 - val_loss: 0.2565 - val_accuracy: 0.9136 - lr: 0.0010\n",
            "Epoch 16/1000\n",
            "424/435 [============================>.] - ETA: 0s - loss: 0.2965 - accuracy: 0.9094\n",
            "Epoch 16: val_accuracy improved from 0.91361 to 0.91492, saving model to best_model_epochs_1000_batch_size_128_iteration_0.h5\n",
            "435/435 [==============================] - 2s 6ms/step - loss: 0.2961 - accuracy: 0.9096 - val_loss: 0.2521 - val_accuracy: 0.9149 - lr: 0.0010\n",
            "Epoch 17/1000\n",
            "434/435 [============================>.] - ETA: 0s - loss: 0.2916 - accuracy: 0.9096\n",
            "Epoch 17: val_accuracy improved from 0.91492 to 0.91704, saving model to best_model_epochs_1000_batch_size_128_iteration_0.h5\n",
            "435/435 [==============================] - 3s 6ms/step - loss: 0.2915 - accuracy: 0.9096 - val_loss: 0.2557 - val_accuracy: 0.9170 - lr: 0.0010\n",
            "Epoch 18/1000\n",
            "427/435 [============================>.] - ETA: 0s - loss: 0.2894 - accuracy: 0.9109\n",
            "Epoch 18: val_accuracy did not improve from 0.91704\n",
            "435/435 [==============================] - 2s 5ms/step - loss: 0.2899 - accuracy: 0.9107 - val_loss: 0.2562 - val_accuracy: 0.9159 - lr: 0.0010\n",
            "Epoch 19/1000\n",
            "431/435 [============================>.] - ETA: 0s - loss: 0.2885 - accuracy: 0.9106\n",
            "Epoch 19: val_accuracy did not improve from 0.91704\n",
            "435/435 [==============================] - 2s 6ms/step - loss: 0.2883 - accuracy: 0.9107 - val_loss: 0.2505 - val_accuracy: 0.9160 - lr: 0.0010\n",
            "Epoch 20/1000\n",
            "433/435 [============================>.] - ETA: 0s - loss: 0.2847 - accuracy: 0.9126\n",
            "Epoch 20: val_accuracy did not improve from 0.91704\n",
            "435/435 [==============================] - 3s 7ms/step - loss: 0.2847 - accuracy: 0.9126 - val_loss: 0.2485 - val_accuracy: 0.9161 - lr: 0.0010\n",
            "Epoch 21/1000\n",
            "432/435 [============================>.] - ETA: 0s - loss: 0.2825 - accuracy: 0.9125\n",
            "Epoch 21: val_accuracy improved from 0.91704 to 0.91764, saving model to best_model_epochs_1000_batch_size_128_iteration_0.h5\n",
            "435/435 [==============================] - 3s 7ms/step - loss: 0.2824 - accuracy: 0.9126 - val_loss: 0.2459 - val_accuracy: 0.9176 - lr: 0.0010\n",
            "Epoch 22/1000\n",
            "425/435 [============================>.] - ETA: 0s - loss: 0.2801 - accuracy: 0.9139\n",
            "Epoch 22: val_accuracy improved from 0.91764 to 0.91824, saving model to best_model_epochs_1000_batch_size_128_iteration_0.h5\n",
            "435/435 [==============================] - 2s 6ms/step - loss: 0.2803 - accuracy: 0.9138 - val_loss: 0.2429 - val_accuracy: 0.9182 - lr: 0.0010\n",
            "Epoch 23/1000\n",
            "434/435 [============================>.] - ETA: 0s - loss: 0.2789 - accuracy: 0.9141\n",
            "Epoch 23: val_accuracy improved from 0.91824 to 0.91862, saving model to best_model_epochs_1000_batch_size_128_iteration_0.h5\n",
            "435/435 [==============================] - 2s 5ms/step - loss: 0.2788 - accuracy: 0.9141 - val_loss: 0.2439 - val_accuracy: 0.9186 - lr: 0.0010\n",
            "Epoch 24/1000\n",
            "426/435 [============================>.] - ETA: 0s - loss: 0.2786 - accuracy: 0.9136\n",
            "Epoch 24: val_accuracy improved from 0.91862 to 0.91970, saving model to best_model_epochs_1000_batch_size_128_iteration_0.h5\n",
            "435/435 [==============================] - 2s 5ms/step - loss: 0.2793 - accuracy: 0.9134 - val_loss: 0.2422 - val_accuracy: 0.9197 - lr: 0.0010\n",
            "Epoch 25/1000\n",
            "433/435 [============================>.] - ETA: 0s - loss: 0.2763 - accuracy: 0.9144\n",
            "Epoch 25: val_accuracy did not improve from 0.91970\n",
            "435/435 [==============================] - 2s 6ms/step - loss: 0.2763 - accuracy: 0.9144 - val_loss: 0.2406 - val_accuracy: 0.9188 - lr: 0.0010\n",
            "Epoch 26/1000\n",
            "434/435 [============================>.] - ETA: 0s - loss: 0.2726 - accuracy: 0.9146\n",
            "Epoch 26: val_accuracy improved from 0.91970 to 0.92085, saving model to best_model_epochs_1000_batch_size_128_iteration_0.h5\n",
            "435/435 [==============================] - 2s 5ms/step - loss: 0.2726 - accuracy: 0.9146 - val_loss: 0.2370 - val_accuracy: 0.9208 - lr: 0.0010\n",
            "Epoch 27/1000\n",
            "424/435 [============================>.] - ETA: 0s - loss: 0.2705 - accuracy: 0.9160\n",
            "Epoch 27: val_accuracy did not improve from 0.92085\n",
            "435/435 [==============================] - 2s 6ms/step - loss: 0.2711 - accuracy: 0.9157 - val_loss: 0.2396 - val_accuracy: 0.9205 - lr: 0.0010\n",
            "Epoch 28/1000\n",
            "433/435 [============================>.] - ETA: 0s - loss: 0.2696 - accuracy: 0.9166\n",
            "Epoch 28: val_accuracy did not improve from 0.92085\n",
            "435/435 [==============================] - 2s 6ms/step - loss: 0.2696 - accuracy: 0.9166 - val_loss: 0.2398 - val_accuracy: 0.9194 - lr: 0.0010\n",
            "Epoch 29/1000\n",
            "424/435 [============================>.] - ETA: 0s - loss: 0.2699 - accuracy: 0.9170\n",
            "Epoch 29: val_accuracy did not improve from 0.92085\n",
            "435/435 [==============================] - 2s 6ms/step - loss: 0.2697 - accuracy: 0.9170 - val_loss: 0.2365 - val_accuracy: 0.9195 - lr: 0.0010\n",
            "Epoch 30/1000\n",
            "431/435 [============================>.] - ETA: 0s - loss: 0.2729 - accuracy: 0.9160\n",
            "Epoch 30: val_accuracy improved from 0.92085 to 0.92144, saving model to best_model_epochs_1000_batch_size_128_iteration_0.h5\n",
            "435/435 [==============================] - 2s 5ms/step - loss: 0.2725 - accuracy: 0.9161 - val_loss: 0.2358 - val_accuracy: 0.9214 - lr: 0.0010\n",
            "Epoch 31/1000\n",
            "431/435 [============================>.] - ETA: 0s - loss: 0.2669 - accuracy: 0.9176\n",
            "Epoch 31: val_accuracy did not improve from 0.92144\n",
            "435/435 [==============================] - 2s 5ms/step - loss: 0.2671 - accuracy: 0.9175 - val_loss: 0.2368 - val_accuracy: 0.9204 - lr: 0.0010\n",
            "Epoch 32/1000\n",
            "426/435 [============================>.] - ETA: 0s - loss: 0.2701 - accuracy: 0.9153\n",
            "Epoch 32: val_accuracy did not improve from 0.92144\n",
            "435/435 [==============================] - 2s 6ms/step - loss: 0.2696 - accuracy: 0.9156 - val_loss: 0.2343 - val_accuracy: 0.9214 - lr: 0.0010\n",
            "Epoch 33/1000\n",
            "423/435 [============================>.] - ETA: 0s - loss: 0.2626 - accuracy: 0.9182\n",
            "Epoch 33: val_accuracy did not improve from 0.92144\n",
            "435/435 [==============================] - 2s 5ms/step - loss: 0.2622 - accuracy: 0.9183 - val_loss: 0.2363 - val_accuracy: 0.9199 - lr: 0.0010\n",
            "Epoch 34/1000\n",
            "424/435 [============================>.] - ETA: 0s - loss: 0.2670 - accuracy: 0.9171\n",
            "Epoch 34: val_accuracy improved from 0.92144 to 0.92177, saving model to best_model_epochs_1000_batch_size_128_iteration_0.h5\n",
            "435/435 [==============================] - 2s 5ms/step - loss: 0.2669 - accuracy: 0.9170 - val_loss: 0.2349 - val_accuracy: 0.9218 - lr: 0.0010\n",
            "Epoch 35/1000\n",
            "424/435 [============================>.] - ETA: 0s - loss: 0.2646 - accuracy: 0.9172\n",
            "Epoch 35: val_accuracy did not improve from 0.92177\n",
            "435/435 [==============================] - 2s 5ms/step - loss: 0.2645 - accuracy: 0.9173 - val_loss: 0.2358 - val_accuracy: 0.9200 - lr: 0.0010\n",
            "Epoch 36/1000\n",
            "434/435 [============================>.] - ETA: 0s - loss: 0.2669 - accuracy: 0.9167\n",
            "Epoch 36: val_accuracy did not improve from 0.92177\n",
            "435/435 [==============================] - 2s 6ms/step - loss: 0.2672 - accuracy: 0.9166 - val_loss: 0.2369 - val_accuracy: 0.9192 - lr: 0.0010\n",
            "Epoch 37/1000\n",
            "428/435 [============================>.] - ETA: 0s - loss: 0.2610 - accuracy: 0.9174\n",
            "Epoch 37: val_accuracy did not improve from 0.92177\n",
            "435/435 [==============================] - 2s 5ms/step - loss: 0.2607 - accuracy: 0.9175 - val_loss: 0.2347 - val_accuracy: 0.9207 - lr: 0.0010\n",
            "Epoch 38/1000\n",
            "434/435 [============================>.] - ETA: 0s - loss: 0.2609 - accuracy: 0.9181\n",
            "Epoch 38: val_accuracy did not improve from 0.92177\n",
            "435/435 [==============================] - 2s 6ms/step - loss: 0.2611 - accuracy: 0.9181 - val_loss: 0.2358 - val_accuracy: 0.9206 - lr: 0.0010\n",
            "Epoch 39/1000\n",
            "426/435 [============================>.] - ETA: 0s - loss: 0.2601 - accuracy: 0.9188\n",
            "Epoch 39: val_accuracy did not improve from 0.92177\n",
            "435/435 [==============================] - 2s 5ms/step - loss: 0.2603 - accuracy: 0.9186 - val_loss: 0.2340 - val_accuracy: 0.9207 - lr: 0.0010\n",
            "Epoch 40/1000\n",
            "429/435 [============================>.] - ETA: 0s - loss: 0.2575 - accuracy: 0.9190\n",
            "Epoch 40: val_accuracy improved from 0.92177 to 0.92313, saving model to best_model_epochs_1000_batch_size_128_iteration_0.h5\n",
            "435/435 [==============================] - 3s 6ms/step - loss: 0.2582 - accuracy: 0.9188 - val_loss: 0.2321 - val_accuracy: 0.9231 - lr: 0.0010\n",
            "Epoch 41/1000\n",
            "435/435 [==============================] - ETA: 0s - loss: 0.2585 - accuracy: 0.9189\n",
            "Epoch 41: val_accuracy did not improve from 0.92313\n",
            "435/435 [==============================] - 2s 6ms/step - loss: 0.2585 - accuracy: 0.9189 - val_loss: 0.2338 - val_accuracy: 0.9218 - lr: 0.0010\n",
            "Epoch 42/1000\n",
            "428/435 [============================>.] - ETA: 0s - loss: 0.2597 - accuracy: 0.9188\n",
            "Epoch 42: val_accuracy did not improve from 0.92313\n",
            "435/435 [==============================] - 3s 6ms/step - loss: 0.2599 - accuracy: 0.9188 - val_loss: 0.2302 - val_accuracy: 0.9226 - lr: 0.0010\n",
            "Epoch 43/1000\n",
            "425/435 [============================>.] - ETA: 0s - loss: 0.2603 - accuracy: 0.9175\n",
            "Epoch 43: val_accuracy did not improve from 0.92313\n",
            "435/435 [==============================] - 3s 6ms/step - loss: 0.2606 - accuracy: 0.9175 - val_loss: 0.2346 - val_accuracy: 0.9212 - lr: 0.0010\n",
            "Epoch 44/1000\n",
            "428/435 [============================>.] - ETA: 0s - loss: 0.2581 - accuracy: 0.9197\n",
            "Epoch 44: val_accuracy improved from 0.92313 to 0.92362, saving model to best_model_epochs_1000_batch_size_128_iteration_0.h5\n",
            "435/435 [==============================] - 2s 5ms/step - loss: 0.2581 - accuracy: 0.9197 - val_loss: 0.2308 - val_accuracy: 0.9236 - lr: 0.0010\n",
            "Epoch 45/1000\n",
            "427/435 [============================>.] - ETA: 0s - loss: 0.2579 - accuracy: 0.9196\n",
            "Epoch 45: val_accuracy did not improve from 0.92362\n",
            "435/435 [==============================] - 2s 5ms/step - loss: 0.2578 - accuracy: 0.9198 - val_loss: 0.2292 - val_accuracy: 0.9222 - lr: 0.0010\n",
            "Epoch 46/1000\n",
            "434/435 [============================>.] - ETA: 0s - loss: 0.2572 - accuracy: 0.9194\n",
            "Epoch 46: val_accuracy did not improve from 0.92362\n",
            "435/435 [==============================] - 2s 5ms/step - loss: 0.2569 - accuracy: 0.9195 - val_loss: 0.2324 - val_accuracy: 0.9226 - lr: 0.0010\n",
            "Epoch 47/1000\n",
            "425/435 [============================>.] - ETA: 0s - loss: 0.2584 - accuracy: 0.9193\n",
            "Epoch 47: val_accuracy did not improve from 0.92362\n",
            "435/435 [==============================] - 2s 6ms/step - loss: 0.2579 - accuracy: 0.9194 - val_loss: 0.2325 - val_accuracy: 0.9218 - lr: 0.0010\n",
            "Epoch 48/1000\n",
            "424/435 [============================>.] - ETA: 0s - loss: 0.2558 - accuracy: 0.9191\n",
            "Epoch 48: val_accuracy did not improve from 0.92362\n",
            "435/435 [==============================] - 3s 6ms/step - loss: 0.2552 - accuracy: 0.9195 - val_loss: 0.2294 - val_accuracy: 0.9213 - lr: 0.0010\n",
            "Epoch 49/1000\n",
            "429/435 [============================>.] - ETA: 0s - loss: 0.2528 - accuracy: 0.9217\n",
            "Epoch 49: val_accuracy did not improve from 0.92362\n",
            "435/435 [==============================] - 2s 5ms/step - loss: 0.2528 - accuracy: 0.9216 - val_loss: 0.2317 - val_accuracy: 0.9224 - lr: 0.0010\n",
            "Epoch 50/1000\n",
            "426/435 [============================>.] - ETA: 0s - loss: 0.2543 - accuracy: 0.9198\n",
            "Epoch 50: val_accuracy improved from 0.92362 to 0.92416, saving model to best_model_epochs_1000_batch_size_128_iteration_0.h5\n",
            "435/435 [==============================] - 2s 5ms/step - loss: 0.2547 - accuracy: 0.9197 - val_loss: 0.2277 - val_accuracy: 0.9242 - lr: 0.0010\n",
            "Epoch 51/1000\n",
            "423/435 [============================>.] - ETA: 0s - loss: 0.2515 - accuracy: 0.9208\n",
            "Epoch 51: val_accuracy did not improve from 0.92416\n",
            "435/435 [==============================] - 3s 6ms/step - loss: 0.2511 - accuracy: 0.9208 - val_loss: 0.2326 - val_accuracy: 0.9237 - lr: 0.0010\n",
            "Epoch 52/1000\n",
            "428/435 [============================>.] - ETA: 0s - loss: 0.2527 - accuracy: 0.9212\n",
            "Epoch 52: val_accuracy did not improve from 0.92416\n",
            "435/435 [==============================] - 2s 5ms/step - loss: 0.2526 - accuracy: 0.9212 - val_loss: 0.2307 - val_accuracy: 0.9230 - lr: 0.0010\n",
            "Epoch 53/1000\n",
            "428/435 [============================>.] - ETA: 0s - loss: 0.2518 - accuracy: 0.9216\n",
            "Epoch 53: val_accuracy did not improve from 0.92416\n",
            "435/435 [==============================] - 2s 5ms/step - loss: 0.2518 - accuracy: 0.9217 - val_loss: 0.2291 - val_accuracy: 0.9233 - lr: 0.0010\n",
            "Epoch 54/1000\n",
            "426/435 [============================>.] - ETA: 0s - loss: 0.2536 - accuracy: 0.9191\n",
            "Epoch 54: val_accuracy did not improve from 0.92416\n",
            "435/435 [==============================] - 2s 6ms/step - loss: 0.2530 - accuracy: 0.9194 - val_loss: 0.2287 - val_accuracy: 0.9239 - lr: 0.0010\n",
            "Epoch 55/1000\n",
            "434/435 [============================>.] - ETA: 0s - loss: 0.2518 - accuracy: 0.9209\n",
            "Epoch 55: val_accuracy improved from 0.92416 to 0.92547, saving model to best_model_epochs_1000_batch_size_128_iteration_0.h5\n",
            "435/435 [==============================] - 2s 5ms/step - loss: 0.2519 - accuracy: 0.9209 - val_loss: 0.2258 - val_accuracy: 0.9255 - lr: 0.0010\n",
            "Epoch 56/1000\n",
            "428/435 [============================>.] - ETA: 0s - loss: 0.2502 - accuracy: 0.9232\n",
            "Epoch 56: val_accuracy did not improve from 0.92547\n",
            "435/435 [==============================] - 2s 6ms/step - loss: 0.2506 - accuracy: 0.9230 - val_loss: 0.2292 - val_accuracy: 0.9235 - lr: 0.0010\n",
            "Epoch 57/1000\n",
            "432/435 [============================>.] - ETA: 0s - loss: 0.2522 - accuracy: 0.9206\n",
            "Epoch 57: val_accuracy did not improve from 0.92547\n",
            "435/435 [==============================] - 2s 6ms/step - loss: 0.2522 - accuracy: 0.9206 - val_loss: 0.2291 - val_accuracy: 0.9230 - lr: 0.0010\n",
            "Epoch 58/1000\n",
            "424/435 [============================>.] - ETA: 0s - loss: 0.2481 - accuracy: 0.9214\n",
            "Epoch 58: val_accuracy did not improve from 0.92547\n",
            "435/435 [==============================] - 2s 5ms/step - loss: 0.2486 - accuracy: 0.9212 - val_loss: 0.2275 - val_accuracy: 0.9240 - lr: 0.0010\n",
            "Epoch 59/1000\n",
            "426/435 [============================>.] - ETA: 0s - loss: 0.2479 - accuracy: 0.9221\n",
            "Epoch 59: val_accuracy did not improve from 0.92547\n",
            "435/435 [==============================] - 2s 5ms/step - loss: 0.2483 - accuracy: 0.9219 - val_loss: 0.2249 - val_accuracy: 0.9250 - lr: 0.0010\n",
            "Epoch 60/1000\n",
            "424/435 [============================>.] - ETA: 0s - loss: 0.2485 - accuracy: 0.9216\n",
            "Epoch 60: val_accuracy did not improve from 0.92547\n",
            "435/435 [==============================] - 2s 6ms/step - loss: 0.2482 - accuracy: 0.9217 - val_loss: 0.2263 - val_accuracy: 0.9251 - lr: 0.0010\n",
            "Epoch 61/1000\n",
            "424/435 [============================>.] - ETA: 0s - loss: 0.2489 - accuracy: 0.9218\n",
            "Epoch 61: val_accuracy did not improve from 0.92547\n",
            "435/435 [==============================] - 2s 5ms/step - loss: 0.2487 - accuracy: 0.9218 - val_loss: 0.2275 - val_accuracy: 0.9250 - lr: 0.0010\n",
            "Epoch 62/1000\n",
            "435/435 [==============================] - ETA: 0s - loss: 0.2488 - accuracy: 0.9213\n",
            "Epoch 62: val_accuracy did not improve from 0.92547\n",
            "435/435 [==============================] - 2s 6ms/step - loss: 0.2488 - accuracy: 0.9213 - val_loss: 0.2258 - val_accuracy: 0.9244 - lr: 0.0010\n",
            "Epoch 63/1000\n",
            "430/435 [============================>.] - ETA: 0s - loss: 0.2527 - accuracy: 0.9215\n",
            "Epoch 63: val_accuracy did not improve from 0.92547\n",
            "435/435 [==============================] - 2s 5ms/step - loss: 0.2527 - accuracy: 0.9214 - val_loss: 0.2269 - val_accuracy: 0.9254 - lr: 0.0010\n",
            "Epoch 64/1000\n",
            "431/435 [============================>.] - ETA: 0s - loss: 0.2471 - accuracy: 0.9227\n",
            "Epoch 64: val_accuracy did not improve from 0.92547\n",
            "435/435 [==============================] - 2s 5ms/step - loss: 0.2468 - accuracy: 0.9228 - val_loss: 0.2258 - val_accuracy: 0.9254 - lr: 0.0010\n",
            "Epoch 65/1000\n",
            "429/435 [============================>.] - ETA: 0s - loss: 0.2458 - accuracy: 0.9226\n",
            "Epoch 65: val_accuracy did not improve from 0.92547\n",
            "435/435 [==============================] - 2s 5ms/step - loss: 0.2455 - accuracy: 0.9225 - val_loss: 0.2274 - val_accuracy: 0.9235 - lr: 0.0010\n",
            "Epoch 66/1000\n",
            "431/435 [============================>.] - ETA: 0s - loss: 0.2454 - accuracy: 0.9217\n",
            "Epoch 66: val_accuracy did not improve from 0.92547\n",
            "435/435 [==============================] - 2s 5ms/step - loss: 0.2455 - accuracy: 0.9216 - val_loss: 0.2267 - val_accuracy: 0.9238 - lr: 0.0010\n",
            "Epoch 67/1000\n",
            "429/435 [============================>.] - ETA: 0s - loss: 0.2477 - accuracy: 0.9220\n",
            "Epoch 67: val_accuracy did not improve from 0.92547\n",
            "435/435 [==============================] - 3s 6ms/step - loss: 0.2477 - accuracy: 0.9219 - val_loss: 0.2227 - val_accuracy: 0.9252 - lr: 0.0010\n",
            "Epoch 68/1000\n",
            "430/435 [============================>.] - ETA: 0s - loss: 0.2467 - accuracy: 0.9221\n",
            "Epoch 68: val_accuracy did not improve from 0.92547\n",
            "435/435 [==============================] - 2s 5ms/step - loss: 0.2468 - accuracy: 0.9221 - val_loss: 0.2271 - val_accuracy: 0.9241 - lr: 0.0010\n",
            "Epoch 69/1000\n",
            "427/435 [============================>.] - ETA: 0s - loss: 0.2475 - accuracy: 0.9223\n",
            "Epoch 69: val_accuracy did not improve from 0.92547\n",
            "435/435 [==============================] - 2s 5ms/step - loss: 0.2479 - accuracy: 0.9221 - val_loss: 0.2255 - val_accuracy: 0.9254 - lr: 0.0010\n",
            "Epoch 70/1000\n",
            "431/435 [============================>.] - ETA: 0s - loss: 0.2444 - accuracy: 0.9226\n",
            "Epoch 70: val_accuracy improved from 0.92547 to 0.92629, saving model to best_model_epochs_1000_batch_size_128_iteration_0.h5\n",
            "435/435 [==============================] - 2s 5ms/step - loss: 0.2438 - accuracy: 0.9228 - val_loss: 0.2229 - val_accuracy: 0.9263 - lr: 0.0010\n",
            "Epoch 71/1000\n",
            "428/435 [============================>.] - ETA: 0s - loss: 0.2469 - accuracy: 0.9229\n",
            "Epoch 71: val_accuracy did not improve from 0.92629\n",
            "435/435 [==============================] - 3s 6ms/step - loss: 0.2473 - accuracy: 0.9228 - val_loss: 0.2265 - val_accuracy: 0.9255 - lr: 0.0010\n",
            "Epoch 72/1000\n",
            "434/435 [============================>.] - ETA: 0s - loss: 0.2431 - accuracy: 0.9225\n",
            "Epoch 72: val_accuracy did not improve from 0.92629\n",
            "435/435 [==============================] - 3s 7ms/step - loss: 0.2429 - accuracy: 0.9225 - val_loss: 0.2232 - val_accuracy: 0.9254 - lr: 0.0010\n",
            "Epoch 73/1000\n",
            "423/435 [============================>.] - ETA: 0s - loss: 0.2398 - accuracy: 0.9231\n",
            "Epoch 73: val_accuracy did not improve from 0.92629\n",
            "435/435 [==============================] - 2s 5ms/step - loss: 0.2395 - accuracy: 0.9232 - val_loss: 0.2239 - val_accuracy: 0.9247 - lr: 0.0010\n",
            "Epoch 74/1000\n",
            "435/435 [==============================] - ETA: 0s - loss: 0.2451 - accuracy: 0.9229\n",
            "Epoch 74: val_accuracy did not improve from 0.92629\n",
            "435/435 [==============================] - 2s 6ms/step - loss: 0.2451 - accuracy: 0.9229 - val_loss: 0.2254 - val_accuracy: 0.9236 - lr: 0.0010\n",
            "Epoch 75/1000\n",
            "426/435 [============================>.] - ETA: 0s - loss: 0.2447 - accuracy: 0.9235\n",
            "Epoch 75: val_accuracy did not improve from 0.92629\n",
            "435/435 [==============================] - 2s 5ms/step - loss: 0.2445 - accuracy: 0.9235 - val_loss: 0.2236 - val_accuracy: 0.9242 - lr: 0.0010\n",
            "Epoch 76/1000\n",
            "425/435 [============================>.] - ETA: 0s - loss: 0.2419 - accuracy: 0.9226\n",
            "Epoch 76: val_accuracy did not improve from 0.92629\n",
            "435/435 [==============================] - 2s 5ms/step - loss: 0.2418 - accuracy: 0.9227 - val_loss: 0.2243 - val_accuracy: 0.9256 - lr: 0.0010\n",
            "Epoch 77/1000\n",
            "429/435 [============================>.] - ETA: 0s - loss: 0.2417 - accuracy: 0.9222\n",
            "Epoch 77: val_accuracy did not improve from 0.92629\n",
            "435/435 [==============================] - 3s 6ms/step - loss: 0.2420 - accuracy: 0.9221 - val_loss: 0.2243 - val_accuracy: 0.9234 - lr: 0.0010\n",
            "Epoch 78/1000\n",
            "435/435 [==============================] - ETA: 0s - loss: 0.2407 - accuracy: 0.9242\n",
            "Epoch 78: val_accuracy did not improve from 0.92629\n",
            "435/435 [==============================] - 2s 6ms/step - loss: 0.2407 - accuracy: 0.9242 - val_loss: 0.2276 - val_accuracy: 0.9229 - lr: 0.0010\n",
            "Epoch 79/1000\n",
            "434/435 [============================>.] - ETA: 0s - loss: 0.2405 - accuracy: 0.9235\n",
            "Epoch 79: val_accuracy did not improve from 0.92629\n",
            "435/435 [==============================] - 2s 6ms/step - loss: 0.2404 - accuracy: 0.9235 - val_loss: 0.2267 - val_accuracy: 0.9254 - lr: 0.0010\n",
            "Epoch 80/1000\n",
            "430/435 [============================>.] - ETA: 0s - loss: 0.2443 - accuracy: 0.9231\n",
            "Epoch 80: val_accuracy did not improve from 0.92629\n",
            "435/435 [==============================] - 3s 7ms/step - loss: 0.2441 - accuracy: 0.9231 - val_loss: 0.2269 - val_accuracy: 0.9240 - lr: 0.0010\n",
            "Epoch 81/1000\n",
            "432/435 [============================>.] - ETA: 0s - loss: 0.2419 - accuracy: 0.9224\n",
            "Epoch 81: val_accuracy did not improve from 0.92629\n",
            "435/435 [==============================] - 2s 6ms/step - loss: 0.2416 - accuracy: 0.9225 - val_loss: 0.2238 - val_accuracy: 0.9244 - lr: 0.0010\n",
            "Epoch 82/1000\n",
            "427/435 [============================>.] - ETA: 0s - loss: 0.2375 - accuracy: 0.9246\n",
            "Epoch 82: val_accuracy did not improve from 0.92629\n",
            "435/435 [==============================] - 2s 6ms/step - loss: 0.2376 - accuracy: 0.9245 - val_loss: 0.2254 - val_accuracy: 0.9238 - lr: 0.0010\n",
            "Epoch 83/1000\n",
            "430/435 [============================>.] - ETA: 0s - loss: 0.2424 - accuracy: 0.9235\n",
            "Epoch 83: val_accuracy did not improve from 0.92629\n",
            "435/435 [==============================] - 3s 7ms/step - loss: 0.2421 - accuracy: 0.9236 - val_loss: 0.2274 - val_accuracy: 0.9231 - lr: 0.0010\n",
            "Epoch 84/1000\n",
            "433/435 [============================>.] - ETA: 0s - loss: 0.2400 - accuracy: 0.9259\n",
            "Epoch 84: val_accuracy did not improve from 0.92629\n",
            "435/435 [==============================] - 3s 7ms/step - loss: 0.2400 - accuracy: 0.9258 - val_loss: 0.2238 - val_accuracy: 0.9248 - lr: 0.0010\n",
            "Epoch 85/1000\n",
            "427/435 [============================>.] - ETA: 0s - loss: 0.2412 - accuracy: 0.9243\n",
            "Epoch 85: val_accuracy did not improve from 0.92629\n",
            "435/435 [==============================] - 2s 5ms/step - loss: 0.2409 - accuracy: 0.9243 - val_loss: 0.2247 - val_accuracy: 0.9250 - lr: 0.0010\n",
            "Epoch 86/1000\n",
            "429/435 [============================>.] - ETA: 0s - loss: 0.2392 - accuracy: 0.9245\n",
            "Epoch 86: val_accuracy did not improve from 0.92629\n",
            "435/435 [==============================] - 2s 6ms/step - loss: 0.2389 - accuracy: 0.9246 - val_loss: 0.2317 - val_accuracy: 0.9220 - lr: 0.0010\n",
            "Epoch 87/1000\n",
            "427/435 [============================>.] - ETA: 0s - loss: 0.2424 - accuracy: 0.9232\n",
            "Epoch 87: val_accuracy did not improve from 0.92629\n",
            "435/435 [==============================] - 2s 6ms/step - loss: 0.2425 - accuracy: 0.9232 - val_loss: 0.2233 - val_accuracy: 0.9243 - lr: 0.0010\n",
            "Epoch 88/1000\n",
            "433/435 [============================>.] - ETA: 0s - loss: 0.2416 - accuracy: 0.9245\n",
            "Epoch 88: val_accuracy did not improve from 0.92629\n",
            "435/435 [==============================] - 2s 5ms/step - loss: 0.2415 - accuracy: 0.9245 - val_loss: 0.2249 - val_accuracy: 0.9243 - lr: 0.0010\n",
            "Epoch 89/1000\n",
            "434/435 [============================>.] - ETA: 0s - loss: 0.2429 - accuracy: 0.9234\n",
            "Epoch 89: val_accuracy did not improve from 0.92629\n",
            "435/435 [==============================] - 2s 6ms/step - loss: 0.2429 - accuracy: 0.9233 - val_loss: 0.2277 - val_accuracy: 0.9231 - lr: 0.0010\n",
            "Epoch 90/1000\n",
            "429/435 [============================>.] - ETA: 0s - loss: 0.2401 - accuracy: 0.9245\n",
            "Epoch 90: val_accuracy did not improve from 0.92629\n",
            "\n",
            "Epoch 90: ReduceLROnPlateau reducing learning rate to 0.0005000000237487257.\n",
            "435/435 [==============================] - 3s 6ms/step - loss: 0.2409 - accuracy: 0.9243 - val_loss: 0.2240 - val_accuracy: 0.9252 - lr: 0.0010\n",
            "Epoch 91/1000\n",
            "427/435 [============================>.] - ETA: 0s - loss: 0.2339 - accuracy: 0.9251\n",
            "Epoch 91: val_accuracy did not improve from 0.92629\n",
            "435/435 [==============================] - 2s 5ms/step - loss: 0.2334 - accuracy: 0.9252 - val_loss: 0.2211 - val_accuracy: 0.9252 - lr: 5.0000e-04\n",
            "Epoch 92/1000\n",
            "432/435 [============================>.] - ETA: 0s - loss: 0.2356 - accuracy: 0.9250\n",
            "Epoch 92: val_accuracy improved from 0.92629 to 0.92683, saving model to best_model_epochs_1000_batch_size_128_iteration_0.h5\n",
            "435/435 [==============================] - 2s 5ms/step - loss: 0.2354 - accuracy: 0.9251 - val_loss: 0.2201 - val_accuracy: 0.9268 - lr: 5.0000e-04\n",
            "Epoch 93/1000\n",
            "433/435 [============================>.] - ETA: 0s - loss: 0.2353 - accuracy: 0.9246\n",
            "Epoch 93: val_accuracy did not improve from 0.92683\n",
            "435/435 [==============================] - 2s 6ms/step - loss: 0.2352 - accuracy: 0.9245 - val_loss: 0.2220 - val_accuracy: 0.9251 - lr: 5.0000e-04\n",
            "Epoch 94/1000\n",
            "433/435 [============================>.] - ETA: 0s - loss: 0.2311 - accuracy: 0.9263\n",
            "Epoch 94: val_accuracy did not improve from 0.92683\n",
            "435/435 [==============================] - 2s 6ms/step - loss: 0.2312 - accuracy: 0.9264 - val_loss: 0.2209 - val_accuracy: 0.9248 - lr: 5.0000e-04\n",
            "Epoch 95/1000\n",
            "428/435 [============================>.] - ETA: 0s - loss: 0.2337 - accuracy: 0.9248\n",
            "Epoch 95: val_accuracy did not improve from 0.92683\n",
            "435/435 [==============================] - 2s 6ms/step - loss: 0.2335 - accuracy: 0.9249 - val_loss: 0.2204 - val_accuracy: 0.9257 - lr: 5.0000e-04\n",
            "Epoch 96/1000\n",
            "433/435 [============================>.] - ETA: 0s - loss: 0.2290 - accuracy: 0.9267\n",
            "Epoch 96: val_accuracy did not improve from 0.92683\n",
            "435/435 [==============================] - 2s 6ms/step - loss: 0.2295 - accuracy: 0.9265 - val_loss: 0.2205 - val_accuracy: 0.9268 - lr: 5.0000e-04\n",
            "Epoch 97/1000\n",
            "427/435 [============================>.] - ETA: 0s - loss: 0.2288 - accuracy: 0.9269\n",
            "Epoch 97: val_accuracy did not improve from 0.92683\n",
            "435/435 [==============================] - 2s 5ms/step - loss: 0.2286 - accuracy: 0.9269 - val_loss: 0.2210 - val_accuracy: 0.9256 - lr: 5.0000e-04\n",
            "Epoch 98/1000\n",
            "432/435 [============================>.] - ETA: 0s - loss: 0.2310 - accuracy: 0.9257\n",
            "Epoch 98: val_accuracy did not improve from 0.92683\n",
            "435/435 [==============================] - 2s 5ms/step - loss: 0.2309 - accuracy: 0.9258 - val_loss: 0.2200 - val_accuracy: 0.9248 - lr: 5.0000e-04\n",
            "Epoch 99/1000\n",
            "431/435 [============================>.] - ETA: 0s - loss: 0.2280 - accuracy: 0.9262\n",
            "Epoch 99: val_accuracy did not improve from 0.92683\n",
            "435/435 [==============================] - 2s 6ms/step - loss: 0.2283 - accuracy: 0.9261 - val_loss: 0.2195 - val_accuracy: 0.9267 - lr: 5.0000e-04\n",
            "Epoch 100/1000\n",
            "435/435 [==============================] - ETA: 0s - loss: 0.2294 - accuracy: 0.9264\n",
            "Epoch 100: val_accuracy did not improve from 0.92683\n",
            "435/435 [==============================] - 3s 6ms/step - loss: 0.2294 - accuracy: 0.9264 - val_loss: 0.2223 - val_accuracy: 0.9255 - lr: 5.0000e-04\n",
            "Epoch 101/1000\n",
            "428/435 [============================>.] - ETA: 0s - loss: 0.2311 - accuracy: 0.9261\n",
            "Epoch 101: val_accuracy improved from 0.92683 to 0.92759, saving model to best_model_epochs_1000_batch_size_128_iteration_0.h5\n",
            "435/435 [==============================] - 2s 5ms/step - loss: 0.2307 - accuracy: 0.9260 - val_loss: 0.2193 - val_accuracy: 0.9276 - lr: 5.0000e-04\n",
            "Epoch 102/1000\n",
            "430/435 [============================>.] - ETA: 0s - loss: 0.2294 - accuracy: 0.9259\n",
            "Epoch 102: val_accuracy did not improve from 0.92759\n",
            "435/435 [==============================] - 2s 5ms/step - loss: 0.2289 - accuracy: 0.9260 - val_loss: 0.2194 - val_accuracy: 0.9269 - lr: 5.0000e-04\n",
            "Epoch 103/1000\n",
            "430/435 [============================>.] - ETA: 0s - loss: 0.2322 - accuracy: 0.9252\n",
            "Epoch 103: val_accuracy improved from 0.92759 to 0.92803, saving model to best_model_epochs_1000_batch_size_128_iteration_0.h5\n",
            "435/435 [==============================] - 3s 6ms/step - loss: 0.2320 - accuracy: 0.9251 - val_loss: 0.2183 - val_accuracy: 0.9280 - lr: 5.0000e-04\n",
            "Epoch 104/1000\n",
            "426/435 [============================>.] - ETA: 0s - loss: 0.2299 - accuracy: 0.9261\n",
            "Epoch 104: val_accuracy improved from 0.92803 to 0.92814, saving model to best_model_epochs_1000_batch_size_128_iteration_0.h5\n",
            "435/435 [==============================] - 2s 5ms/step - loss: 0.2301 - accuracy: 0.9261 - val_loss: 0.2174 - val_accuracy: 0.9281 - lr: 5.0000e-04\n",
            "Epoch 105/1000\n",
            "434/435 [============================>.] - ETA: 0s - loss: 0.2291 - accuracy: 0.9270\n",
            "Epoch 105: val_accuracy did not improve from 0.92814\n",
            "435/435 [==============================] - 2s 6ms/step - loss: 0.2291 - accuracy: 0.9270 - val_loss: 0.2215 - val_accuracy: 0.9264 - lr: 5.0000e-04\n",
            "Epoch 106/1000\n",
            "429/435 [============================>.] - ETA: 0s - loss: 0.2309 - accuracy: 0.9267\n",
            "Epoch 106: val_accuracy did not improve from 0.92814\n",
            "435/435 [==============================] - 2s 5ms/step - loss: 0.2307 - accuracy: 0.9267 - val_loss: 0.2228 - val_accuracy: 0.9260 - lr: 5.0000e-04\n",
            "Epoch 107/1000\n",
            "425/435 [============================>.] - ETA: 0s - loss: 0.2318 - accuracy: 0.9263\n",
            "Epoch 107: val_accuracy did not improve from 0.92814\n",
            "435/435 [==============================] - 2s 5ms/step - loss: 0.2306 - accuracy: 0.9267 - val_loss: 0.2170 - val_accuracy: 0.9273 - lr: 5.0000e-04\n",
            "Epoch 108/1000\n",
            "426/435 [============================>.] - ETA: 0s - loss: 0.2295 - accuracy: 0.9273\n",
            "Epoch 108: val_accuracy did not improve from 0.92814\n",
            "435/435 [==============================] - 2s 5ms/step - loss: 0.2299 - accuracy: 0.9271 - val_loss: 0.2208 - val_accuracy: 0.9253 - lr: 5.0000e-04\n",
            "Epoch 109/1000\n",
            "431/435 [============================>.] - ETA: 0s - loss: 0.2273 - accuracy: 0.9274\n",
            "Epoch 109: val_accuracy did not improve from 0.92814\n",
            "435/435 [==============================] - 2s 5ms/step - loss: 0.2271 - accuracy: 0.9275 - val_loss: 0.2206 - val_accuracy: 0.9260 - lr: 5.0000e-04\n",
            "Epoch 110/1000\n",
            "424/435 [============================>.] - ETA: 0s - loss: 0.2271 - accuracy: 0.9278\n",
            "Epoch 110: val_accuracy did not improve from 0.92814\n",
            "435/435 [==============================] - 2s 5ms/step - loss: 0.2265 - accuracy: 0.9279 - val_loss: 0.2184 - val_accuracy: 0.9269 - lr: 5.0000e-04\n",
            "Epoch 111/1000\n",
            "432/435 [============================>.] - ETA: 0s - loss: 0.2276 - accuracy: 0.9265\n",
            "Epoch 111: val_accuracy did not improve from 0.92814\n",
            "435/435 [==============================] - 2s 6ms/step - loss: 0.2278 - accuracy: 0.9264 - val_loss: 0.2179 - val_accuracy: 0.9270 - lr: 5.0000e-04\n",
            "Epoch 112/1000\n",
            "434/435 [============================>.] - ETA: 0s - loss: 0.2279 - accuracy: 0.9273\n",
            "Epoch 112: val_accuracy did not improve from 0.92814\n",
            "435/435 [==============================] - 2s 6ms/step - loss: 0.2278 - accuracy: 0.9273 - val_loss: 0.2190 - val_accuracy: 0.9279 - lr: 5.0000e-04\n",
            "Epoch 113/1000\n",
            "433/435 [============================>.] - ETA: 0s - loss: 0.2271 - accuracy: 0.9270\n",
            "Epoch 113: val_accuracy did not improve from 0.92814\n",
            "435/435 [==============================] - 2s 6ms/step - loss: 0.2268 - accuracy: 0.9271 - val_loss: 0.2196 - val_accuracy: 0.9272 - lr: 5.0000e-04\n",
            "Epoch 114/1000\n",
            "431/435 [============================>.] - ETA: 0s - loss: 0.2308 - accuracy: 0.9265\n",
            "Epoch 114: val_accuracy improved from 0.92814 to 0.92835, saving model to best_model_epochs_1000_batch_size_128_iteration_0.h5\n",
            "435/435 [==============================] - 3s 6ms/step - loss: 0.2306 - accuracy: 0.9266 - val_loss: 0.2160 - val_accuracy: 0.9284 - lr: 5.0000e-04\n",
            "Epoch 115/1000\n",
            "425/435 [============================>.] - ETA: 0s - loss: 0.2277 - accuracy: 0.9276\n",
            "Epoch 115: val_accuracy did not improve from 0.92835\n",
            "435/435 [==============================] - 3s 6ms/step - loss: 0.2277 - accuracy: 0.9275 - val_loss: 0.2179 - val_accuracy: 0.9276 - lr: 5.0000e-04\n",
            "Epoch 116/1000\n",
            "430/435 [============================>.] - ETA: 0s - loss: 0.2261 - accuracy: 0.9280\n",
            "Epoch 116: val_accuracy did not improve from 0.92835\n",
            "435/435 [==============================] - 3s 6ms/step - loss: 0.2254 - accuracy: 0.9281 - val_loss: 0.2184 - val_accuracy: 0.9272 - lr: 5.0000e-04\n",
            "Epoch 117/1000\n",
            "424/435 [============================>.] - ETA: 0s - loss: 0.2253 - accuracy: 0.9276\n",
            "Epoch 117: val_accuracy did not improve from 0.92835\n",
            "435/435 [==============================] - 3s 6ms/step - loss: 0.2258 - accuracy: 0.9275 - val_loss: 0.2169 - val_accuracy: 0.9280 - lr: 5.0000e-04\n",
            "Epoch 118/1000\n",
            "425/435 [============================>.] - ETA: 0s - loss: 0.2261 - accuracy: 0.9276\n",
            "Epoch 118: val_accuracy did not improve from 0.92835\n",
            "435/435 [==============================] - 3s 6ms/step - loss: 0.2260 - accuracy: 0.9276 - val_loss: 0.2199 - val_accuracy: 0.9266 - lr: 5.0000e-04\n",
            "Epoch 119/1000\n",
            "434/435 [============================>.] - ETA: 0s - loss: 0.2278 - accuracy: 0.9268\n",
            "Epoch 119: val_accuracy did not improve from 0.92835\n",
            "435/435 [==============================] - 2s 5ms/step - loss: 0.2277 - accuracy: 0.9267 - val_loss: 0.2176 - val_accuracy: 0.9272 - lr: 5.0000e-04\n",
            "Epoch 120/1000\n",
            "429/435 [============================>.] - ETA: 0s - loss: 0.2274 - accuracy: 0.9268\n",
            "Epoch 120: val_accuracy did not improve from 0.92835\n",
            "435/435 [==============================] - 3s 6ms/step - loss: 0.2273 - accuracy: 0.9267 - val_loss: 0.2205 - val_accuracy: 0.9260 - lr: 5.0000e-04\n",
            "Epoch 121/1000\n",
            "426/435 [============================>.] - ETA: 0s - loss: 0.2273 - accuracy: 0.9277\n",
            "Epoch 121: val_accuracy did not improve from 0.92835\n",
            "435/435 [==============================] - 3s 6ms/step - loss: 0.2273 - accuracy: 0.9278 - val_loss: 0.2177 - val_accuracy: 0.9274 - lr: 5.0000e-04\n",
            "Epoch 122/1000\n",
            "430/435 [============================>.] - ETA: 0s - loss: 0.2278 - accuracy: 0.9269\n",
            "Epoch 122: val_accuracy did not improve from 0.92835\n",
            "435/435 [==============================] - 3s 6ms/step - loss: 0.2277 - accuracy: 0.9270 - val_loss: 0.2187 - val_accuracy: 0.9269 - lr: 5.0000e-04\n",
            "Epoch 123/1000\n",
            "433/435 [============================>.] - ETA: 0s - loss: 0.2245 - accuracy: 0.9281\n",
            "Epoch 123: val_accuracy did not improve from 0.92835\n",
            "435/435 [==============================] - 3s 6ms/step - loss: 0.2243 - accuracy: 0.9281 - val_loss: 0.2184 - val_accuracy: 0.9264 - lr: 5.0000e-04\n",
            "Epoch 124/1000\n",
            "432/435 [============================>.] - ETA: 0s - loss: 0.2280 - accuracy: 0.9278\n",
            "Epoch 124: val_accuracy did not improve from 0.92835\n",
            "435/435 [==============================] - 3s 6ms/step - loss: 0.2282 - accuracy: 0.9278 - val_loss: 0.2158 - val_accuracy: 0.9273 - lr: 5.0000e-04\n",
            "Epoch 125/1000\n",
            "426/435 [============================>.] - ETA: 0s - loss: 0.2267 - accuracy: 0.9268\n",
            "Epoch 125: val_accuracy did not improve from 0.92835\n",
            "435/435 [==============================] - 3s 6ms/step - loss: 0.2269 - accuracy: 0.9268 - val_loss: 0.2167 - val_accuracy: 0.9264 - lr: 5.0000e-04\n",
            "Epoch 126/1000\n",
            "434/435 [============================>.] - ETA: 0s - loss: 0.2285 - accuracy: 0.9270\n",
            "Epoch 126: val_accuracy did not improve from 0.92835\n",
            "435/435 [==============================] - 2s 5ms/step - loss: 0.2284 - accuracy: 0.9270 - val_loss: 0.2186 - val_accuracy: 0.9254 - lr: 5.0000e-04\n",
            "Epoch 127/1000\n",
            "433/435 [============================>.] - ETA: 0s - loss: 0.2277 - accuracy: 0.9272\n",
            "Epoch 127: val_accuracy did not improve from 0.92835\n",
            "435/435 [==============================] - 3s 6ms/step - loss: 0.2277 - accuracy: 0.9272 - val_loss: 0.2183 - val_accuracy: 0.9255 - lr: 5.0000e-04\n",
            "Epoch 128/1000\n",
            "428/435 [============================>.] - ETA: 0s - loss: 0.2260 - accuracy: 0.9283\n",
            "Epoch 128: val_accuracy did not improve from 0.92835\n",
            "435/435 [==============================] - 3s 6ms/step - loss: 0.2260 - accuracy: 0.9282 - val_loss: 0.2173 - val_accuracy: 0.9262 - lr: 5.0000e-04\n",
            "Epoch 129/1000\n",
            "430/435 [============================>.] - ETA: 0s - loss: 0.2263 - accuracy: 0.9277\n",
            "Epoch 129: val_accuracy did not improve from 0.92835\n",
            "435/435 [==============================] - 3s 6ms/step - loss: 0.2268 - accuracy: 0.9275 - val_loss: 0.2184 - val_accuracy: 0.9275 - lr: 5.0000e-04\n",
            "Epoch 130/1000\n",
            "427/435 [============================>.] - ETA: 0s - loss: 0.2261 - accuracy: 0.9278\n",
            "Epoch 130: val_accuracy did not improve from 0.92835\n",
            "435/435 [==============================] - 3s 7ms/step - loss: 0.2265 - accuracy: 0.9277 - val_loss: 0.2183 - val_accuracy: 0.9272 - lr: 5.0000e-04\n",
            "Epoch 131/1000\n",
            "430/435 [============================>.] - ETA: 0s - loss: 0.2240 - accuracy: 0.9275\n",
            "Epoch 131: val_accuracy did not improve from 0.92835\n",
            "435/435 [==============================] - 3s 6ms/step - loss: 0.2245 - accuracy: 0.9274 - val_loss: 0.2195 - val_accuracy: 0.9256 - lr: 5.0000e-04\n",
            "Epoch 132/1000\n",
            "428/435 [============================>.] - ETA: 0s - loss: 0.2235 - accuracy: 0.9290\n",
            "Epoch 132: val_accuracy did not improve from 0.92835\n",
            "435/435 [==============================] - 2s 5ms/step - loss: 0.2237 - accuracy: 0.9289 - val_loss: 0.2177 - val_accuracy: 0.9257 - lr: 5.0000e-04\n",
            "Epoch 133/1000\n",
            "433/435 [============================>.] - ETA: 0s - loss: 0.2237 - accuracy: 0.9277\n",
            "Epoch 133: val_accuracy did not improve from 0.92835\n",
            "435/435 [==============================] - 3s 6ms/step - loss: 0.2233 - accuracy: 0.9279 - val_loss: 0.2157 - val_accuracy: 0.9281 - lr: 5.0000e-04\n",
            "Epoch 134/1000\n",
            "435/435 [==============================] - ETA: 0s - loss: 0.2263 - accuracy: 0.9274\n",
            "Epoch 134: val_accuracy did not improve from 0.92835\n",
            "\n",
            "Epoch 134: ReduceLROnPlateau reducing learning rate to 0.0002500000118743628.\n",
            "435/435 [==============================] - 2s 5ms/step - loss: 0.2263 - accuracy: 0.9274 - val_loss: 0.2202 - val_accuracy: 0.9254 - lr: 5.0000e-04\n",
            "Epoch 135/1000\n",
            "427/435 [============================>.] - ETA: 0s - loss: 0.2219 - accuracy: 0.9284\n",
            "Epoch 135: val_accuracy did not improve from 0.92835\n",
            "435/435 [==============================] - 3s 6ms/step - loss: 0.2218 - accuracy: 0.9284 - val_loss: 0.2174 - val_accuracy: 0.9268 - lr: 2.5000e-04\n",
            "Epoch 136/1000\n",
            "430/435 [============================>.] - ETA: 0s - loss: 0.2206 - accuracy: 0.9285\n",
            "Epoch 136: val_accuracy did not improve from 0.92835\n",
            "435/435 [==============================] - 2s 5ms/step - loss: 0.2209 - accuracy: 0.9284 - val_loss: 0.2170 - val_accuracy: 0.9272 - lr: 2.5000e-04\n",
            "Epoch 137/1000\n",
            "431/435 [============================>.] - ETA: 0s - loss: 0.2252 - accuracy: 0.9280\n",
            "Epoch 137: val_accuracy did not improve from 0.92835\n",
            "435/435 [==============================] - 3s 7ms/step - loss: 0.2248 - accuracy: 0.9281 - val_loss: 0.2162 - val_accuracy: 0.9273 - lr: 2.5000e-04\n",
            "Epoch 138/1000\n",
            "427/435 [============================>.] - ETA: 0s - loss: 0.2222 - accuracy: 0.9274\n",
            "Epoch 138: val_accuracy did not improve from 0.92835\n",
            "435/435 [==============================] - 3s 7ms/step - loss: 0.2217 - accuracy: 0.9276 - val_loss: 0.2195 - val_accuracy: 0.9262 - lr: 2.5000e-04\n",
            "Epoch 139/1000\n",
            "429/435 [============================>.] - ETA: 0s - loss: 0.2207 - accuracy: 0.9280\n",
            "Epoch 139: val_accuracy did not improve from 0.92835\n",
            "435/435 [==============================] - 3s 6ms/step - loss: 0.2205 - accuracy: 0.9283 - val_loss: 0.2163 - val_accuracy: 0.9276 - lr: 2.5000e-04\n",
            "Epoch 140/1000\n",
            "432/435 [============================>.] - ETA: 0s - loss: 0.2209 - accuracy: 0.9288\n",
            "Epoch 140: val_accuracy did not improve from 0.92835\n",
            "435/435 [==============================] - 2s 5ms/step - loss: 0.2209 - accuracy: 0.9287 - val_loss: 0.2154 - val_accuracy: 0.9278 - lr: 2.5000e-04\n",
            "Epoch 141/1000\n",
            "430/435 [============================>.] - ETA: 0s - loss: 0.2230 - accuracy: 0.9283\n",
            "Epoch 141: val_accuracy did not improve from 0.92835\n",
            "435/435 [==============================] - 3s 6ms/step - loss: 0.2226 - accuracy: 0.9284 - val_loss: 0.2161 - val_accuracy: 0.9273 - lr: 2.5000e-04\n",
            "Epoch 142/1000\n",
            "432/435 [============================>.] - ETA: 0s - loss: 0.2226 - accuracy: 0.9284\n",
            "Epoch 142: val_accuracy did not improve from 0.92835\n",
            "435/435 [==============================] - 2s 5ms/step - loss: 0.2223 - accuracy: 0.9285 - val_loss: 0.2154 - val_accuracy: 0.9284 - lr: 2.5000e-04\n",
            "Epoch 143/1000\n",
            "425/435 [============================>.] - ETA: 0s - loss: 0.2209 - accuracy: 0.9286\n",
            "Epoch 143: val_accuracy did not improve from 0.92835\n",
            "435/435 [==============================] - 2s 5ms/step - loss: 0.2198 - accuracy: 0.9289 - val_loss: 0.2195 - val_accuracy: 0.9266 - lr: 2.5000e-04\n",
            "Epoch 144/1000\n",
            "433/435 [============================>.] - ETA: 0s - loss: 0.2213 - accuracy: 0.9291\n",
            "Epoch 144: val_accuracy did not improve from 0.92835\n",
            "435/435 [==============================] - 2s 5ms/step - loss: 0.2212 - accuracy: 0.9290 - val_loss: 0.2170 - val_accuracy: 0.9277 - lr: 2.5000e-04\n",
            "Epoch 145/1000\n",
            "430/435 [============================>.] - ETA: 0s - loss: 0.2191 - accuracy: 0.9300\n",
            "Epoch 145: val_accuracy did not improve from 0.92835\n",
            "435/435 [==============================] - 3s 6ms/step - loss: 0.2192 - accuracy: 0.9300 - val_loss: 0.2162 - val_accuracy: 0.9281 - lr: 2.5000e-04\n",
            "Epoch 146/1000\n",
            "435/435 [==============================] - ETA: 0s - loss: 0.2219 - accuracy: 0.9289\n",
            "Epoch 146: val_accuracy did not improve from 0.92835\n",
            "435/435 [==============================] - 2s 5ms/step - loss: 0.2219 - accuracy: 0.9289 - val_loss: 0.2168 - val_accuracy: 0.9272 - lr: 2.5000e-04\n",
            "Epoch 147/1000\n",
            "430/435 [============================>.] - ETA: 0s - loss: 0.2223 - accuracy: 0.9287\n",
            "Epoch 147: val_accuracy did not improve from 0.92835\n",
            "435/435 [==============================] - 3s 6ms/step - loss: 0.2222 - accuracy: 0.9287 - val_loss: 0.2165 - val_accuracy: 0.9279 - lr: 2.5000e-04\n",
            "Epoch 148/1000\n",
            "425/435 [============================>.] - ETA: 0s - loss: 0.2192 - accuracy: 0.9298\n",
            "Epoch 148: val_accuracy did not improve from 0.92835\n",
            "435/435 [==============================] - 3s 6ms/step - loss: 0.2194 - accuracy: 0.9297 - val_loss: 0.2164 - val_accuracy: 0.9269 - lr: 2.5000e-04\n",
            "Epoch 149/1000\n",
            "435/435 [==============================] - ETA: 0s - loss: 0.2183 - accuracy: 0.9299\n",
            "Epoch 149: val_accuracy did not improve from 0.92835\n",
            "435/435 [==============================] - 3s 6ms/step - loss: 0.2183 - accuracy: 0.9299 - val_loss: 0.2154 - val_accuracy: 0.9281 - lr: 2.5000e-04\n",
            "Epoch 150/1000\n",
            "339/435 [======================>.......] - ETA: 0s - loss: 0.2223 - accuracy: 0.9284"
          ]
        }
      ]
    },
    {
      "cell_type": "code",
      "source": [],
      "metadata": {
        "id": "WmfCaleMN1wB"
      },
      "execution_count": null,
      "outputs": []
    }
  ]
}